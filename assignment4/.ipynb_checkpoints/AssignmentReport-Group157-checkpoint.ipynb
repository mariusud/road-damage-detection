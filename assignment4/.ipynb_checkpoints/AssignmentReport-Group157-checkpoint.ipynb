{
 "cells": [
  {
   "cell_type": "markdown",
   "metadata": {},
   "source": [
    "# Assignment 1 Report"
   ]
  },
  {
   "cell_type": "markdown",
   "metadata": {},
   "source": [
    "This is an outline for your report to ease the amount of work required to create your report. Jupyter notebook supports markdown, and I recommend you to check out this [cheat sheet](https://github.com/adam-p/markdown-here/wiki/Markdown-Cheatsheet). If you are not familiar with markdown.\n",
    "\n",
    "Before delivery, **remember to convert this file to PDF**. You can do it in two ways:\n",
    "1. Print the webpage (ctrl+P or cmd+P)\n",
    "2. Export with latex. This is somewhat more difficult, but you'll get somehwat of a \"prettier\" PDF. Go to File -> Download as -> PDF via LaTeX. You might have to install nbconvert and pandoc through conda; `conda install nbconvert pandoc`."
   ]
  },
  {
   "cell_type": "markdown",
   "metadata": {},
   "source": [
    "# Task 1"
   ]
  },
  {
   "cell_type": "markdown",
   "metadata": {},
   "source": [
    "## task 1a)\n",
    "\n",
    "Fill in image of hand-written notes which are easy to read, or latex equations here"
   ]
  },
  {
   "cell_type": "markdown",
   "metadata": {},
   "source": [
    "## task 1b)\n",
    "\n",
    "Fill in image of hand-written notes which are easy to read, or latex equations here\n",
    "\n",
    "## task 1c)\n",
    "\n",
    "Fill in task 1a image of hand-written notes which are easy to read, or latex equations here\n"
   ]
  },
  {
   "cell_type": "markdown",
   "metadata": {},
   "source": [
    "# Task 2\n",
    "\n",
    "### Task 2f)\n",
    "\n",
    "![](/home/marius/Development/Datasyn/assignment4/task2/precision_recall_curve.png)"
   ]
  },
  {
   "cell_type": "markdown",
   "metadata": {},
   "source": [
    "# Task 3"
   ]
  },
  {
   "cell_type": "markdown",
   "metadata": {},
   "source": [
    "### Task 3a)\n",
    "The SSD architecture produces a fixed-size number of bounding boxes and a score for eachbounding box.  When performing inference with SSD, we need to filter out a set of overlappingboxes.  What is this filtering operation called?\n",
    "non-maximum suppression (NMS) \n",
    "\n",
    "### Task 3b)\n",
    "The SSD architecture predicts bounding boxes at multiple scales to enable the network todetect objects of different sizes.Is the following true or false:Predictions from the deeper layers in SSD are responsible todetect small objects\n",
    "\n",
    "Higher-resolution feature maps are responsible for detecting small objects. since the resolution decreases for each layer, predictions from the deeper layers are responsible for detecting bigger objects.\n",
    "\n",
    "### Task 3c)\n",
    "SSD use k number of ”anchors” with different aspect ratios at each spatial location in a feature map to predict class scores and 4 offsets relative to the original box shape.Why do they use different bounding box aspect ratios at the same spatial location?\n",
    "\n",
    "Objects can have wildly varying shapes, as cars will often be more rectangular, and e.g. a football will have a squared bounding box. To get a bigger IoU between prediction and gt_box, the SSD will predict a number of objects with varying shapes at the same spatial location. The team behind SSD discovered that the model will fight between the different aspect ratios thus leaving the predictions unstable. To counter this, they start guesses based on \"default\" boxes that are preselected manually and carefully.\n",
    "\n",
    "\n",
    "### Task 3d)\n",
    "What is the main difference between SSD and YOLOv1/v2 (The YOLO version they refer to in the SSD paper)?\n",
    "The main difference in the network model is that SSD adds several feature layers at the end of the base network, which predict the offsets to default boxes of different scales and aspect ratios and their associated confidences.\n",
    "The default bounding boxes discussed above are also not entered manually, but found through k-means clustering in the YOLO algorithm\n",
    "### Task 3e)\n",
    "Given a SSD framework, where the first scale the network predicts at is at the last featuremap with a resolution of 38×38 (H×W).  For each anchor location, we place 6 different anchorswith different aspect ratios.  How many anchors boxes do we have in total for this feature map?\n",
    "\n",
    "\n",
    "### Task 3f)\n",
    "The network outlined in the previous subtask predicts at multiple resolutions, specifically38×38, 19×19, 10×10, 5×5, 3×3 and 1×1.  It uses 6 different aspect ratios at each location inevery feature map as anchors.  How many anchors boxes do we have in total for the entire network?\n",
    "\n"
   ]
  },
  {
   "cell_type": "markdown",
   "metadata": {},
   "source": [
    "# Task 4"
   ]
  },
  {
   "cell_type": "markdown",
   "metadata": {},
   "source": [
    "## Task 4b)\n",
    "\n",
    "FILL IN ANSWER. \n",
    "\n",
    "## Task 4c)\n",
    "FILL IN ANSWER. \n",
    "\n",
    "\n",
    "## Task 4d)\n",
    "FILL IN ANSWER. \n",
    "\n",
    "\n",
    "## Task 4e)\n",
    "FILL IN ANSWER. \n",
    "\n",
    "\n",
    "## Task 4f)\n",
    "FILL IN ANSWER. "
   ]
  }
 ],
 "metadata": {
  "kernelspec": {
   "display_name": "Python 3",
   "language": "python",
   "name": "python3"
  },
  "language_info": {
   "codemirror_mode": {
    "name": "ipython",
    "version": 3
   },
   "file_extension": ".py",
   "mimetype": "text/x-python",
   "name": "python",
   "nbconvert_exporter": "python",
   "pygments_lexer": "ipython3",
   "version": "3.8.0"
  }
 },
 "nbformat": 4,
 "nbformat_minor": 4
}
